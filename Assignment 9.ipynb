{
 "cells": [
  {
   "cell_type": "markdown",
   "id": "9e31abab",
   "metadata": {},
   "source": [
    "# Write a program for implementing security measures in an IIoT system"
   ]
  },
  {
   "cell_type": "code",
   "execution_count": 1,
   "id": "1b876185",
   "metadata": {},
   "outputs": [],
   "source": [
    "from cryptography.fernet import Fernet  # For encryption\n",
    "import numpy as np"
   ]
  },
  {
   "cell_type": "code",
   "execution_count": 2,
   "id": "e7102b04",
   "metadata": {},
   "outputs": [],
   "source": [
    "key = Fernet.generate_key()\n",
    "cipher = Fernet(key)"
   ]
  },
  {
   "cell_type": "code",
   "execution_count": 3,
   "id": "bbf16c62",
   "metadata": {},
   "outputs": [
    {
     "name": "stdout",
     "output_type": "stream",
     "text": [
      "Original Temperature :  48\n"
     ]
    }
   ],
   "source": [
    "temp = np.random.randint(30,60)\n",
    "print(\"Original Temperature : \", temp)"
   ]
  },
  {
   "cell_type": "code",
   "execution_count": 4,
   "id": "16e804d0",
   "metadata": {},
   "outputs": [
    {
     "name": "stdout",
     "output_type": "stream",
     "text": [
      "Encrypted Temperature:  b'gAAAAABnLP6bJALvQ5Y7x7bbYUTawokEsZlQjw0xPI80BFicsq2UGdkju6djpHHTk4Uzw5T1pgVypVPDy5JtYU7WU9WMX7hQ5Q=='\n"
     ]
    }
   ],
   "source": [
    "enc = cipher.encrypt(str(temp).encode())\n",
    "print(\"Encrypted Temperature: \",enc)"
   ]
  },
  {
   "cell_type": "code",
   "execution_count": 5,
   "id": "33dac37d",
   "metadata": {},
   "outputs": [
    {
     "name": "stdout",
     "output_type": "stream",
     "text": [
      "Decrypted Temperature:  48\n"
     ]
    }
   ],
   "source": [
    "dec = cipher.decrypt(enc).decode()\n",
    "print(\"Decrypted Temperature: \",dec)"
   ]
  },
  {
   "cell_type": "code",
   "execution_count": 6,
   "id": "f77a249b",
   "metadata": {},
   "outputs": [
    {
     "name": "stdout",
     "output_type": "stream",
     "text": [
      "Data Integrity is verified\n"
     ]
    }
   ],
   "source": [
    "original_hash = hash(str(temp))\n",
    "decrypted_hash = hash(dec)\n",
    "\n",
    "if original_hash == decrypted_hash:\n",
    "    print(\"Data Integrity is verified\")\n",
    "else:\n",
    "    print(\"Data Integrity is not verified\")"
   ]
  },
  {
   "cell_type": "code",
   "execution_count": null,
   "id": "d29a1e72",
   "metadata": {},
   "outputs": [],
   "source": []
  }
 ],
 "metadata": {
  "kernelspec": {
   "display_name": "Python 3 (ipykernel)",
   "language": "python",
   "name": "python3"
  },
  "language_info": {
   "codemirror_mode": {
    "name": "ipython",
    "version": 3
   },
   "file_extension": ".py",
   "mimetype": "text/x-python",
   "name": "python",
   "nbconvert_exporter": "python",
   "pygments_lexer": "ipython3",
   "version": "3.11.4"
  }
 },
 "nbformat": 4,
 "nbformat_minor": 5
}
